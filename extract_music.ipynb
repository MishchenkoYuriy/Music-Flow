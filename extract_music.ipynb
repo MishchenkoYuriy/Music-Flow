{
 "cells": [
  {
   "cell_type": "code",
   "execution_count": 126,
   "id": "22f5e431-ca22-4db4-a56d-946a0f3873bf",
   "metadata": {},
   "outputs": [],
   "source": [
    "import os\n",
    "import pickle\n",
    "from dotenv import load_dotenv\n",
    "\n",
    "from google_auth_oauthlib.flow import InstalledAppFlow\n",
    "from google.auth.transport.requests import Request\n",
    "from googleapiclient.discovery import build"
   ]
  },
  {
   "cell_type": "code",
   "execution_count": 129,
   "id": "367be349-ec3e-4593-9d7d-cf5d94aafb08",
   "metadata": {},
   "outputs": [],
   "source": [
    "%%capture\n",
    "load_dotenv()"
   ]
  },
  {
   "cell_type": "markdown",
   "id": "c77a0059-2b38-4a5d-8634-b06177829354",
   "metadata": {},
   "source": [
    "### Get valid credentials"
   ]
  },
  {
   "cell_type": "code",
   "execution_count": 130,
   "id": "013de03f-1d93-4e3f-9d11-5f4db2793b27",
   "metadata": {},
   "outputs": [
    {
     "name": "stdout",
     "output_type": "stream",
     "text": [
      "Credentials were created\n"
     ]
    }
   ],
   "source": [
    "credentials = None\n",
    "\n",
    "if os.path.exists('token.pickle'):\n",
    "    with open('token.pickle', 'rb') as token:\n",
    "        credentials = pickle.load(token)\n",
    "        print('Credentials were loaded from a token.pickle')\n",
    "\n",
    "if not credentials or not credentials.valid:\n",
    "    if credentials and credentials.expired and credentials.refresh_token: # credentials are expired\n",
    "        credentials.refresh(Request())\n",
    "        print('Credentials were refreshed')\n",
    "    else: # credentials not exist\n",
    "        client_secrets_path = os.getenv('CLIENT_SECRETS_PATH')\n",
    "        flow = InstalledAppFlow.from_client_secrets_file(client_secrets_path, scopes=[\"https://www.googleapis.com/auth/youtube.readonly\"])\n",
    "\n",
    "        credentials = flow.run_local_server(port=4040, authorization_prompt_message='')\n",
    "        print('Credentials were created')\n",
    "\n",
    "        with open('token.pickle', 'wb') as f:\n",
    "            pickle.dump(credentials, f)"
   ]
  },
  {
   "cell_type": "code",
   "execution_count": 131,
   "id": "1e45ba3a-27d4-4802-82c4-582e971b656e",
   "metadata": {},
   "outputs": [],
   "source": [
    "youtube = build(\"youtube\", \"v3\", credentials=credentials)"
   ]
  },
  {
   "cell_type": "markdown",
   "id": "1c6caa26-b9b8-440b-947e-bef4dc03f068",
   "metadata": {},
   "source": [
    "### My playlists"
   ]
  },
  {
   "cell_type": "code",
   "execution_count": 132,
   "id": "1382a84c-9a75-4f2e-822a-b17b297920f0",
   "metadata": {},
   "outputs": [],
   "source": [
    "request = youtube.playlists().list(\n",
    "        part=\"snippet,contentDetails\",\n",
    "        maxResults=50,\n",
    "        mine=True\n",
    "    )\n",
    "response = request.execute()"
   ]
  },
  {
   "cell_type": "code",
   "execution_count": 133,
   "id": "2ceb4022-9332-487a-ace3-df9869a80bd4",
   "metadata": {},
   "outputs": [],
   "source": [
    "playlists = {}"
   ]
  },
  {
   "cell_type": "code",
   "execution_count": 134,
   "id": "3ec2d009-982b-480f-9804-00e1b7e13cc2",
   "metadata": {},
   "outputs": [],
   "source": [
    "for item in response['items']:\n",
    "    if '💼' not in item['snippet']['title']: # remove non-music playlists\n",
    "        # playlists.append([item['id'], item['snippet']['title']])\n",
    "        playlists[item['id']] = item['snippet']['title']"
   ]
  },
  {
   "cell_type": "code",
   "execution_count": 135,
   "id": "dc7a848b-2fb7-4418-a5fc-42ade627001a",
   "metadata": {
    "tags": []
   },
   "outputs": [
    {
     "data": {
      "text/plain": [
       "32"
      ]
     },
     "execution_count": 135,
     "metadata": {},
     "output_type": "execute_result"
    }
   ],
   "source": [
    "len(playlists)"
   ]
  },
  {
   "cell_type": "markdown",
   "id": "fc08296d-0259-4acc-a6ba-8e2775fad1a8",
   "metadata": {},
   "source": [
    "### BigQuery (explicit example)"
   ]
  },
  {
   "cell_type": "code",
   "execution_count": 136,
   "id": "86209e98-37bc-495a-9c19-1c2498c25fad",
   "metadata": {},
   "outputs": [],
   "source": [
    "import pandas as pd\n",
    "\n",
    "playlists_series = pd.Series(playlists)\n",
    "df_playlists = pd.DataFrame(playlists_series, columns=['playlist_name'])"
   ]
  },
  {
   "cell_type": "code",
   "execution_count": 137,
   "id": "2803ff64-44c3-419d-9b21-6b775d73d3d9",
   "metadata": {
    "tags": []
   },
   "outputs": [
    {
     "data": {
      "text/plain": [
       "32"
      ]
     },
     "execution_count": 137,
     "metadata": {},
     "output_type": "execute_result"
    }
   ],
   "source": [
    "len(df_playlists)"
   ]
  },
  {
   "cell_type": "code",
   "execution_count": 138,
   "id": "79792092-3e66-405b-903a-e1dba449671c",
   "metadata": {},
   "outputs": [],
   "source": [
    "from google.cloud import bigquery\n",
    "from google.oauth2 import service_account"
   ]
  },
  {
   "cell_type": "code",
   "execution_count": 90,
   "id": "15764cf6-4ea8-463d-b609-4bcdc6a9efca",
   "metadata": {},
   "outputs": [],
   "source": [
    "credentials = service_account.Credentials.from_service_account_file(\n",
    "        'PATH_TO_YOUR_SERVICE_ACCOUNT_CREDENTIALS_FILE', scopes=[\"https://www.googleapis.com/auth/cloud-platform\"]\n",
    "    )\n",
    "\n",
    "project_id = os.getenv('PROJECT_ID')\n",
    "client = bigquery.Client(credentials=credentials, project=project_id)\n",
    "job_config = bigquery.LoadJobConfig(write_disposition=\"WRITE_TRUNCATE\")\n",
    "table_id = f'{project_id}.marts.playlists'\n",
    "\n",
    "job = client.load_table_from_dataframe(df_playlists, table_id, job_config=job_config)\n",
    "job.result()\n",
    "\n",
    "loaded_data = client.get_table(table_id)"
   ]
  },
  {
   "cell_type": "markdown",
   "id": "c81e67ea-fb0c-4406-87b6-c8c9557166c2",
   "metadata": {
    "tags": []
   },
   "source": [
    "### Playlist videos"
   ]
  },
  {
   "cell_type": "code",
   "execution_count": 139,
   "id": "82dade46-84dc-4284-92e0-79a662d2154a",
   "metadata": {},
   "outputs": [],
   "source": [
    "def get_playlist_videos(playlist_id: str, nextPageToken: str = ''):\n",
    "    if nextPageToken:\n",
    "        request = youtube.playlistItems().list(\n",
    "                part=\"snippet,contentDetails\",\n",
    "                maxResults=50,\n",
    "                playlistId=playlist_id,\n",
    "                pageToken=nextPageToken\n",
    "            )\n",
    "    else:\n",
    "        request = youtube.playlistItems().list(\n",
    "                part=\"snippet,contentDetails\",\n",
    "                maxResults=50,\n",
    "                playlistId=playlist_id\n",
    "            )\n",
    "    \n",
    "    response = request.execute()\n",
    "    return response"
   ]
  },
  {
   "cell_type": "code",
   "execution_count": 140,
   "id": "657ec276-9f46-4712-905f-c821a2159712",
   "metadata": {},
   "outputs": [],
   "source": [
    "def populate_videos(response):\n",
    "    for item in response['items']:\n",
    "        if item['snippet']['title'] not in ('Deleted video', 'Private video') and item['contentDetails']['videoId'] not in videos:\n",
    "            # songs.append([item['contentDetails']['videoId'], item['snippet']['title'], item['snippet']['videoOwnerChannelTitle']])\n",
    "            videos[item['contentDetails']['videoId']] = (item['snippet']['title'], item['snippet']['videoOwnerChannelTitle'])"
   ]
  },
  {
   "cell_type": "code",
   "execution_count": 141,
   "id": "f0f11632-8509-4dde-840d-cb270551397f",
   "metadata": {
    "tags": []
   },
   "outputs": [
    {
     "name": "stdout",
     "output_type": "stream",
     "text": [
      "CPU times: total: 234 ms\n",
      "Wall time: 15.7 s\n"
     ]
    }
   ],
   "source": [
    "%%time\n",
    "videos = {}\n",
    "response = ''\n",
    "\n",
    "for playlist in playlists:\n",
    "    \n",
    "    response = get_playlist_videos(playlist)\n",
    "    populate_videos(response)\n",
    "\n",
    "    while response.get('nextPageToken', ''):\n",
    "        response = get_playlist_videos(playlist, response['nextPageToken'])\n",
    "        populate_videos(response)"
   ]
  },
  {
   "cell_type": "code",
   "execution_count": 142,
   "id": "4610ce99-215d-4c05-8052-904663a6e2cc",
   "metadata": {
    "tags": []
   },
   "outputs": [
    {
     "data": {
      "text/plain": [
       "724"
      ]
     },
     "execution_count": 142,
     "metadata": {},
     "output_type": "execute_result"
    }
   ],
   "source": [
    "len(videos)"
   ]
  },
  {
   "cell_type": "markdown",
   "id": "32fa9022-890f-4175-bda2-3c713c9f3a2c",
   "metadata": {},
   "source": [
    "### Save to BigQuery (simplified example)"
   ]
  },
  {
   "cell_type": "code",
   "execution_count": 143,
   "id": "417c28a7-690e-4434-abe1-62da2cc4503a",
   "metadata": {
    "tags": []
   },
   "outputs": [],
   "source": [
    "videos_df = pd.DataFrame(videos).T\n",
    "videos_df = videos_series.rename(columns={0: 'title', 1: 'channel_name'})"
   ]
  },
  {
   "cell_type": "code",
   "execution_count": 145,
   "id": "e1f5576f-9e38-4b7b-b5eb-ade40f7cef38",
   "metadata": {
    "tags": []
   },
   "outputs": [],
   "source": [
    "%%capture\n",
    "project_id = os.getenv('PROJECT_ID')\n",
    "client = bigquery.Client(project=project_id)\n",
    "table_id = f'{project_id}.marts.videos'\n",
    "\n",
    "client.load_table_from_dataframe(videos_df, table_id).result()"
   ]
  },
  {
   "cell_type": "markdown",
   "id": "0c216fa7-4645-4aec-a5d8-8faccfe821c5",
   "metadata": {},
   "source": [
    "### TODO: Extract from liked videos, extract from saved playlists"
   ]
  },
  {
   "cell_type": "markdown",
   "id": "448a9848-3e7e-4391-9e58-14ac54ab63e3",
   "metadata": {},
   "source": [
    "### TODO: Add duration if used in Spotify"
   ]
  },
  {
   "cell_type": "code",
   "execution_count": 42,
   "id": "5d3a217b-b55a-4382-bf40-0eb44c100edd",
   "metadata": {},
   "outputs": [],
   "source": [
    "request = youtube.videos().list(\n",
    "        part=\"snippet,contentDetails,statistics\",\n",
    "        id=\"lXgF3WShEUo\"\n",
    "    )\n",
    "response = request.execute()"
   ]
  },
  {
   "cell_type": "code",
   "execution_count": 46,
   "id": "eee2754d-c48b-4f51-a30a-e5f732a7cf3e",
   "metadata": {},
   "outputs": [
    {
     "data": {
      "text/plain": [
       "'PT3M20S'"
      ]
     },
     "execution_count": 46,
     "metadata": {},
     "output_type": "execute_result"
    }
   ],
   "source": [
    "response['items'][0]['contentDetails']['duration']"
   ]
  },
  {
   "cell_type": "code",
   "execution_count": null,
   "id": "0f63c4ee-ecef-4183-a4ee-4fb3acdc956f",
   "metadata": {},
   "outputs": [],
   "source": []
  }
 ],
 "metadata": {
  "kernelspec": {
   "display_name": "Python 3 (ipykernel)",
   "language": "python",
   "name": "python3"
  },
  "language_info": {
   "codemirror_mode": {
    "name": "ipython",
    "version": 3
   },
   "file_extension": ".py",
   "mimetype": "text/x-python",
   "name": "python",
   "nbconvert_exporter": "python",
   "pygments_lexer": "ipython3",
   "version": "3.10.9"
  }
 },
 "nbformat": 4,
 "nbformat_minor": 5
}
