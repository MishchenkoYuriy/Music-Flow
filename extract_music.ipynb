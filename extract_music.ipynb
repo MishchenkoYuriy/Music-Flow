{
 "cells": [
  {
   "cell_type": "code",
   "execution_count": 5,
   "id": "22f5e431-ca22-4db4-a56d-946a0f3873bf",
   "metadata": {},
   "outputs": [],
   "source": [
    "from google_auth_oauthlib.flow import InstalledAppFlow\n",
    "from googleapiclient.discovery import build"
   ]
  },
  {
   "cell_type": "code",
   "execution_count": 164,
   "id": "2938634a-1f9d-48b7-9650-5893e128ea71",
   "metadata": {},
   "outputs": [],
   "source": [
    "flow = InstalledAppFlow.from_client_secrets_file(\"dags/client_secrets.json\", scopes=[\"https://www.googleapis.com/auth/youtube.readonly\"])\n",
    "    \n",
    "credentials = flow.run_local_server(port=4040, authorization_prompt_message='')\n",
    "\n",
    "youtube = build(\"youtube\", \"v3\", credentials=credentials)"
   ]
  },
  {
   "cell_type": "markdown",
   "id": "1c6caa26-b9b8-440b-947e-bef4dc03f068",
   "metadata": {},
   "source": [
    "### My playlists"
   ]
  },
  {
   "cell_type": "code",
   "execution_count": 111,
   "id": "1382a84c-9a75-4f2e-822a-b17b297920f0",
   "metadata": {},
   "outputs": [],
   "source": [
    "request = youtube.playlists().list(\n",
    "        part=\"snippet,contentDetails\",\n",
    "        maxResults=50,\n",
    "        mine=True\n",
    "    )\n",
    "response = request.execute()"
   ]
  },
  {
   "cell_type": "code",
   "execution_count": 112,
   "id": "2ceb4022-9332-487a-ace3-df9869a80bd4",
   "metadata": {},
   "outputs": [],
   "source": [
    "playlists = []"
   ]
  },
  {
   "cell_type": "code",
   "execution_count": 113,
   "id": "3ec2d009-982b-480f-9804-00e1b7e13cc2",
   "metadata": {},
   "outputs": [],
   "source": [
    "for item in response['items']:\n",
    "    if '💼' not in item['snippet']['title']: # remove non-music playlists\n",
    "        playlists.append([item['id'], item['snippet']['title']])"
   ]
  },
  {
   "cell_type": "code",
   "execution_count": 163,
   "id": "dc7a848b-2fb7-4418-a5fc-42ade627001a",
   "metadata": {
    "tags": []
   },
   "outputs": [
    {
     "data": {
      "text/plain": [
       "32"
      ]
     },
     "execution_count": 163,
     "metadata": {},
     "output_type": "execute_result"
    }
   ],
   "source": [
    "len(playlists)"
   ]
  },
  {
   "cell_type": "markdown",
   "id": "c81e67ea-fb0c-4406-87b6-c8c9557166c2",
   "metadata": {
    "tags": []
   },
   "source": [
    "### Playlist videos"
   ]
  },
  {
   "cell_type": "code",
   "execution_count": 159,
   "id": "82dade46-84dc-4284-92e0-79a662d2154a",
   "metadata": {},
   "outputs": [],
   "source": [
    "def get_playlist_videos(playlist_id: str, nextPageToken: str = ''):\n",
    "    if nextPageToken:\n",
    "        request = youtube.playlistItems().list(\n",
    "                part=\"snippet,contentDetails\",\n",
    "                maxResults=50,\n",
    "                playlistId=playlist_id,\n",
    "                pageToken=nextPageToken\n",
    "            )\n",
    "    else:\n",
    "        request = youtube.playlistItems().list(\n",
    "                part=\"snippet,contentDetails\",\n",
    "                maxResults=50,\n",
    "                playlistId=playlist_id\n",
    "            )\n",
    "    \n",
    "    response = request.execute()\n",
    "    return response"
   ]
  },
  {
   "cell_type": "code",
   "execution_count": 160,
   "id": "657ec276-9f46-4712-905f-c821a2159712",
   "metadata": {},
   "outputs": [],
   "source": [
    "def populate_videos(response):\n",
    "    for item in response['items']:\n",
    "        if item['snippet']['title'] not in ('Deleted video', 'Private video') and item['contentDetails']['videoId'] not in videos:\n",
    "            # songs.append([item['contentDetails']['videoId'], item['snippet']['title'], item['snippet']['videoOwnerChannelTitle']])\n",
    "            videos[item['contentDetails']['videoId']] = (item['snippet']['title'], item['snippet']['videoOwnerChannelTitle'])"
   ]
  },
  {
   "cell_type": "code",
   "execution_count": 161,
   "id": "f0f11632-8509-4dde-840d-cb270551397f",
   "metadata": {
    "tags": []
   },
   "outputs": [
    {
     "name": "stdout",
     "output_type": "stream",
     "text": [
      "CPU times: total: 156 ms\n",
      "Wall time: 10.7 s\n"
     ]
    }
   ],
   "source": [
    "%%time\n",
    "videos = {}\n",
    "response = ''\n",
    "\n",
    "for playlist in playlists:\n",
    "    \n",
    "    response = get_playlist_videos(playlist[0])\n",
    "    populate_videos(response)\n",
    "\n",
    "    while response.get('nextPageToken', ''):\n",
    "        response = get_playlist_videos(playlist[0], response['nextPageToken'])\n",
    "        populate_videos(response)"
   ]
  },
  {
   "cell_type": "code",
   "execution_count": 162,
   "id": "4610ce99-215d-4c05-8052-904663a6e2cc",
   "metadata": {
    "tags": []
   },
   "outputs": [
    {
     "data": {
      "text/plain": [
       "724"
      ]
     },
     "execution_count": 162,
     "metadata": {},
     "output_type": "execute_result"
    }
   ],
   "source": [
    "len(videos)"
   ]
  },
  {
   "cell_type": "markdown",
   "id": "32fa9022-890f-4175-bda2-3c713c9f3a2c",
   "metadata": {},
   "source": [
    "### Save to BigQuery"
   ]
  },
  {
   "cell_type": "code",
   "execution_count": null,
   "id": "8673d632-7690-4128-9d42-76b2e1fd33e7",
   "metadata": {},
   "outputs": [],
   "source": []
  },
  {
   "cell_type": "markdown",
   "id": "0c216fa7-4645-4aec-a5d8-8faccfe821c5",
   "metadata": {},
   "source": [
    "### TODO: Extract from liked videos, extract from saved playlists"
   ]
  },
  {
   "cell_type": "markdown",
   "id": "448a9848-3e7e-4391-9e58-14ac54ab63e3",
   "metadata": {},
   "source": [
    "### TODO: Add duration if used in Spotify"
   ]
  },
  {
   "cell_type": "code",
   "execution_count": 42,
   "id": "5d3a217b-b55a-4382-bf40-0eb44c100edd",
   "metadata": {},
   "outputs": [],
   "source": [
    "request = youtube.videos().list(\n",
    "        part=\"snippet,contentDetails,statistics\",\n",
    "        id=\"lXgF3WShEUo\"\n",
    "    )\n",
    "response = request.execute()"
   ]
  },
  {
   "cell_type": "code",
   "execution_count": 46,
   "id": "eee2754d-c48b-4f51-a30a-e5f732a7cf3e",
   "metadata": {},
   "outputs": [
    {
     "data": {
      "text/plain": [
       "'PT3M20S'"
      ]
     },
     "execution_count": 46,
     "metadata": {},
     "output_type": "execute_result"
    }
   ],
   "source": [
    "response['items'][0]['contentDetails']['duration']"
   ]
  },
  {
   "cell_type": "code",
   "execution_count": null,
   "id": "0f63c4ee-ecef-4183-a4ee-4fb3acdc956f",
   "metadata": {},
   "outputs": [],
   "source": []
  }
 ],
 "metadata": {
  "kernelspec": {
   "display_name": "Python 3 (ipykernel)",
   "language": "python",
   "name": "python3"
  },
  "language_info": {
   "codemirror_mode": {
    "name": "ipython",
    "version": 3
   },
   "file_extension": ".py",
   "mimetype": "text/x-python",
   "name": "python",
   "nbconvert_exporter": "python",
   "pygments_lexer": "ipython3",
   "version": "3.10.9"
  }
 },
 "nbformat": 4,
 "nbformat_minor": 5
}
