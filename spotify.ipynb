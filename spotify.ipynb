{
 "cells": [
  {
   "cell_type": "code",
   "execution_count": 5,
   "id": "7c849b20-a170-4fb4-9feb-4cf49591e3df",
   "metadata": {},
   "outputs": [
    {
     "data": {
      "text/plain": [
       "True"
      ]
     },
     "execution_count": 5,
     "metadata": {},
     "output_type": "execute_result"
    }
   ],
   "source": [
    "import os\n",
    "import json\n",
    "import pandas as pd\n",
    "import requests\n",
    "from dotenv import load_dotenv\n",
    "\n",
    "from google.cloud import bigquery\n",
    "\n",
    "load_dotenv()"
   ]
  },
  {
   "cell_type": "code",
   "execution_count": 6,
   "id": "e3238f1b-7147-49cf-85ae-74bf5fd28fa0",
   "metadata": {},
   "outputs": [],
   "source": [
    "import spotipy\n",
    "from spotipy.oauth2 import SpotifyOAuth"
   ]
  },
  {
   "cell_type": "code",
   "execution_count": 7,
   "id": "01e363b1-d78d-4651-a46f-072b522c7de7",
   "metadata": {},
   "outputs": [],
   "source": [
    "def extract_videos() -> pd.DataFrame:\n",
    "    project_id = os.getenv('PROJECT_ID')\n",
    "    client = bigquery.Client(project=project_id)\n",
    "    table_id = f'{project_id}.marts.videos'\n",
    "\n",
    "    sql = f\"\"\"\n",
    "    SELECT channel_name, title\n",
    "    FROM `{table_id}`\n",
    "    ORDER BY channel_name, title\n",
    "    \"\"\"\n",
    "\n",
    "    df_videos = client.query(sql).to_dataframe()\n",
    "    return df_videos"
   ]
  },
  {
   "cell_type": "code",
   "execution_count": 8,
   "id": "35757164-794c-476f-b067-024a3e21fad4",
   "metadata": {},
   "outputs": [],
   "source": [
    "df_videos = extract_videos()"
   ]
  },
  {
   "cell_type": "code",
   "execution_count": 25,
   "id": "90aa008d-d4bf-4508-9d86-1c9f5310979e",
   "metadata": {},
   "outputs": [],
   "source": [
    "scope = [\"user-library-read\", \"user-library-modify\"]\n",
    "\n",
    "sp = spotipy.Spotify(auth_manager=SpotifyOAuth(scope=scope))"
   ]
  },
  {
   "cell_type": "markdown",
   "id": "c8554c72-5880-47cb-878c-c2ae76143081",
   "metadata": {},
   "source": [
    "### Priority: album -> playlist -> artist -> track"
   ]
  },
  {
   "cell_type": "code",
   "execution_count": 15,
   "id": "95a59f9f-a33b-43e0-911b-919f3df58e3f",
   "metadata": {},
   "outputs": [],
   "source": [
    "df = df_videos[0:5]"
   ]
  },
  {
   "cell_type": "code",
   "execution_count": 29,
   "id": "7fc8fea9-2d12-4d9e-b284-921ee2fedc65",
   "metadata": {},
   "outputs": [],
   "source": [
    "def find_spotify_ids(row):\n",
    "    #row['channel_name']\n",
    "    #row['title']\n",
    "    results = sp.search(q=row['title'], limit=1, type='track')\n",
    "    track_id = results['tracks']['items'][0]['id']\n",
    "    \n",
    "    sp.current_user_saved_tracks_add(tracks=[track_id])"
   ]
  },
  {
   "cell_type": "code",
   "execution_count": 30,
   "id": "51adaff2-6036-4c40-b2c3-da37b6bf9a73",
   "metadata": {},
   "outputs": [
    {
     "data": {
      "text/plain": [
       "0    None\n",
       "1    None\n",
       "2    None\n",
       "3    None\n",
       "4    None\n",
       "dtype: object"
      ]
     },
     "execution_count": 30,
     "metadata": {},
     "output_type": "execute_result"
    }
   ],
   "source": [
    "df.apply(find_spotify_ids, axis = 1)"
   ]
  },
  {
   "cell_type": "code",
   "execution_count": null,
   "id": "2c1d9c4d-a7c2-4512-9bf8-06a069ec3ce2",
   "metadata": {
    "tags": []
   },
   "outputs": [],
   "source": [
    "response['tracks']['items'][0]['id'] # ['album'] ['artists'] ['available_markets'] ['duration_ms']"
   ]
  },
  {
   "cell_type": "markdown",
   "id": "d67897ee-b08b-4426-8608-c666bc5b8fbf",
   "metadata": {},
   "source": [
    "### Save the tracks"
   ]
  },
  {
   "cell_type": "code",
   "execution_count": null,
   "id": "ee4a09ad-8875-4188-b1cb-e7f2a9c8c424",
   "metadata": {},
   "outputs": [],
   "source": []
  }
 ],
 "metadata": {
  "kernelspec": {
   "display_name": "Python 3 (ipykernel)",
   "language": "python",
   "name": "python3"
  },
  "language_info": {
   "codemirror_mode": {
    "name": "ipython",
    "version": 3
   },
   "file_extension": ".py",
   "mimetype": "text/x-python",
   "name": "python",
   "nbconvert_exporter": "python",
   "pygments_lexer": "ipython3",
   "version": "3.10.9"
  }
 },
 "nbformat": 4,
 "nbformat_minor": 5
}
